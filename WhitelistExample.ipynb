{
 "cells": [
  {
   "cell_type": "markdown",
   "metadata": {},
   "source": [
    "## Step 1 - Connect to Ethereum Node"
   ]
  },
  {
   "cell_type": "code",
   "execution_count": 68,
   "metadata": {
    "collapsed": true
   },
   "outputs": [],
   "source": [
    "# Step 1a - Start local geth node\n",
    "# Run runGeth script    \n",
    "# $ ./00_runGeth.sh\n",
    "# \n",
    "# Or the following but remember to include the preloaded keyfiles for all actors \n",
    "# geth --dev --dev.period 1 --datadir ./testchain --rpc --rpccorsdomain '*' --rpcport 8646 --rpcapi \"eth,net,web3,debug\" --port 32323 --maxpeers 0 --targetgaslimit 994712388 console"
   ]
  },
  {
   "cell_type": "code",
   "execution_count": 69,
   "metadata": {
    "collapsed": true
   },
   "outputs": [],
   "source": [
    "# If no module named solc\n",
    "#!pip install --upgrade pip\n",
    "#!pip install py-solc"
   ]
  },
  {
   "cell_type": "code",
   "execution_count": 70,
   "metadata": {
    "scrolled": true
   },
   "outputs": [
    {
     "name": "stdout",
     "output_type": "stream",
     "text": [
      "The autoreload extension is already loaded. To reload it, use:\n",
      "  %reload_ext autoreload\n"
     ]
    }
   ],
   "source": [
    "%load_ext autoreload\n",
    "%autoreload 2\n",
    "%reload_ext autoreload\n",
    "\n",
    "import web3, solc, json\n",
    "from web3.contract import ConciseContract\n",
    "from web3 import Web3\n",
    "from web3.auto.gethdev import w3"
   ]
  },
  {
   "cell_type": "code",
   "execution_count": 71,
   "metadata": {
    "collapsed": true
   },
   "outputs": [],
   "source": [
    "# Pointer to Ethereum node (Can also be grenache or infura)\n",
    "ipc_path = '../testchain/geth.ipc'\n",
    "w3 = Web3(Web3.IPCProvider(ipc_path))"
   ]
  },
  {
   "cell_type": "code",
   "execution_count": 30,
   "metadata": {
    "collapsed": true
   },
   "outputs": [],
   "source": [
    "# If using a geth node (optional)\n",
    "from web3.middleware import geth_poa_middleware\n",
    "w3.middleware_stack.inject(geth_poa_middleware, layer=0)"
   ]
  },
  {
   "cell_type": "code",
   "execution_count": 8,
   "metadata": {
    "collapsed": true
   },
   "outputs": [],
   "source": []
  },
  {
   "cell_type": "code",
   "execution_count": null,
   "metadata": {
    "collapsed": true
   },
   "outputs": [],
   "source": []
  },
  {
   "cell_type": "markdown",
   "metadata": {
    "collapsed": true
   },
   "source": [
    "#### Check connection "
   ]
  },
  {
   "cell_type": "code",
   "execution_count": 37,
   "metadata": {},
   "outputs": [
    {
     "data": {
      "text/plain": [
       "954"
      ]
     },
     "execution_count": 37,
     "metadata": {},
     "output_type": "execute_result"
    }
   ],
   "source": [
    "# Check that our geth node is running\n",
    "block = w3.eth.getBlock('latest')\n",
    "block.number"
   ]
  },
  {
   "cell_type": "code",
   "execution_count": 38,
   "metadata": {},
   "outputs": [
    {
     "data": {
      "text/plain": [
       "HexBytes('0x5ce092d9111643d90104d60377d16d133a9eb16113fd841e0befbe478fe37e09')"
      ]
     },
     "execution_count": 38,
     "metadata": {},
     "output_type": "execute_result"
    }
   ],
   "source": [
    "block.hash"
   ]
  },
  {
   "cell_type": "code",
   "execution_count": 39,
   "metadata": {},
   "outputs": [
    {
     "data": {
      "text/plain": [
       "'0xa22AB8A9D641CE77e06D98b7D7065d324D3d6976'"
      ]
     },
     "execution_count": 39,
     "metadata": {},
     "output_type": "execute_result"
    }
   ],
   "source": [
    "# Checks that test accounts have loaded correctly. \n",
    "w3.eth.accounts[2]\n",
    "\n",
    "# >'0xa22AB8A9D641CE77e06D98b7D7065d324D3d6976'"
   ]
  },
  {
   "cell_type": "markdown",
   "metadata": {},
   "source": [
    "## Step 2 - Set Up Environment"
   ]
  },
  {
   "cell_type": "code",
   "execution_count": 72,
   "metadata": {},
   "outputs": [
    {
     "name": "stdout",
     "output_type": "stream",
     "text": [
      "solc, the solidity compiler commandline interface\r\n",
      "Version: 0.5.3+commit.10d17f24.Darwin.appleclang\r\n"
     ]
    }
   ],
   "source": [
    "# compile contract, check which version. ie solidity 0.5.3\n",
    "# !pip install solc\n",
    "!solc --version"
   ]
  },
  {
   "cell_type": "code",
   "execution_count": 73,
   "metadata": {
    "collapsed": true
   },
   "outputs": [],
   "source": [
    "# load web3 python helper functions \n",
    "SCRIPTSDIR=\"scripts\"\n",
    "!cp $SCRIPTSDIR/* .\n",
    "import functions"
   ]
  },
  {
   "cell_type": "code",
   "execution_count": 74,
   "metadata": {},
   "outputs": [
    {
     "name": "stdout",
     "output_type": "stream",
     "text": [
      "mkdir: flattened: File exists\r\n"
     ]
    }
   ],
   "source": [
    "# File operations for solidity flattener\n",
    "!chmod 755 ./scripts/solidityFlattener.pl\n",
    "!mkdir flattened"
   ]
  },
  {
   "cell_type": "code",
   "execution_count": null,
   "metadata": {
    "collapsed": true
   },
   "outputs": [],
   "source": []
  },
  {
   "cell_type": "code",
   "execution_count": null,
   "metadata": {
    "collapsed": true
   },
   "outputs": [],
   "source": []
  },
  {
   "cell_type": "markdown",
   "metadata": {},
   "source": [
    "## Step 3 - Deploy Base Smart Contracts"
   ]
  },
  {
   "cell_type": "code",
   "execution_count": 43,
   "metadata": {
    "collapsed": true
   },
   "outputs": [],
   "source": [
    "# define\n",
    "def sign_transaction(txn):\n",
    "    # Flesh out the transaction for local signing\n",
    "    next_nonce = w3.eth.getTransactionCount(str(w3.eth.accounts[0]))\n",
    "    signable_transaction = dict(\n",
    "      txn,\n",
    "      nonce=next_nonce,\n",
    "      gasPrice=w3.toWei(4, 'gwei'),\n",
    "    )\n",
    "    # Sign transaction\n",
    "    encrypted_key = open('./testchain/keystore/UTC--2017-05-20T02-37-30.360937280Z--a00af22d07c87d96eeeb0ed583f8f6ac7812827e').read()\n",
    "    private_key = w3.eth.account.decrypt(encrypted_key, '')\n",
    "    signature_info = w3.eth.account.signTransaction(signable_transaction, private_key)\n",
    "    # Broadcast transaction\n",
    "    txn_hash = w3.eth.sendRawTransaction(signature_info.rawTransaction)\n",
    "    # Wait for the transaction to be mined\n",
    "    receipt = w3.eth.waitForTransactionReceipt(txn_hash)\n",
    "\n",
    "    return receipt"
   ]
  },
  {
   "cell_type": "code",
   "execution_count": 44,
   "metadata": {
    "collapsed": true
   },
   "outputs": [],
   "source": [
    "## Warning, this is for testing purposes only, this is not a secure way to handle private key. Needs to be rewritten."
   ]
  },
  {
   "cell_type": "markdown",
   "metadata": {
    "collapsed": true
   },
   "source": [
    "### Step 3a - Contract Deployment"
   ]
  },
  {
   "cell_type": "markdown",
   "metadata": {},
   "source": [
    "#### Build Contract"
   ]
  },
  {
   "cell_type": "code",
   "execution_count": 67,
   "metadata": {
    "collapsed": true
   },
   "outputs": [],
   "source": [
    "WHITELISTSOL = \"./flattened/WhiteList_flattened.sol\"\n",
    "!./scripts/solidityFlattener.pl --contractsdir=./contracts --mainsol=WhiteList.sol --outputsol={WHITELISTSOL} # --verbose"
   ]
  },
  {
   "cell_type": "code",
   "execution_count": 53,
   "metadata": {},
   "outputs": [
    {
     "name": "stdout",
     "output_type": "stream",
     "text": [
      "{\"contracts\":{\"./fla\n"
     ]
    }
   ],
   "source": [
    "WhiteListOutput = !solc --optimize --combined-json abi,bin,interface {WHITELISTSOL}\n",
    "i = 0\n",
    "while (i < len(WhiteListOutput)):\n",
    "    if WhiteListOutput[i][:10] == '{\"contract':\n",
    "        print(WhiteListOutput[i][:20])\n",
    "        WhiteListOutputContract = WhiteListOutput[i]\n",
    "    i = i + 1\n",
    "\n",
    "WhiteListAbi = json.loads(WhiteListOutputContract)['contracts'][WHITELISTSOL + ':WhiteList']['abi'] \n",
    "WhiteListBin = json.loads(WhiteListOutputContract)['contracts'][WHITELISTSOL + ':WhiteList']['bin']\n",
    "\n",
    "# Build the contract object in preparation for deployment\n"
   ]
  },
  {
   "cell_type": "code",
   "execution_count": 1,
   "metadata": {},
   "outputs": [],
   "source": [
    "#WhiteListOutput"
   ]
  },
  {
   "cell_type": "code",
   "execution_count": 2,
   "metadata": {},
   "outputs": [],
   "source": [
    "#WhiteListAbi"
   ]
  },
  {
   "cell_type": "markdown",
   "metadata": {},
   "source": [
    "#### Deploy WhiteList"
   ]
  },
  {
   "cell_type": "code",
   "execution_count": 57,
   "metadata": {},
   "outputs": [
    {
     "data": {
      "text/plain": [
       "'0x5fe7CD00aA1aA3cCf94F459E3fB5C633C640aBB4'"
      ]
     },
     "execution_count": 57,
     "metadata": {},
     "output_type": "execute_result"
    }
   ],
   "source": [
    "## Deploy WhiteList\n",
    "whitelist_deployer = w3.eth.contract(abi=WhiteListAbi, bytecode=WhiteListBin)\n",
    "init = whitelist_deployer.constructor()\n",
    "txn = init.buildTransaction({'gas': 1000000})\n",
    "receipt = sign_transaction(txn)\n",
    "WhiteListAddress = receipt.contractAddress\n",
    "WhiteListAddress"
   ]
  },
  {
   "cell_type": "code",
   "execution_count": 58,
   "metadata": {},
   "outputs": [
    {
     "data": {
      "text/plain": [
       "<web3.contract.ConciseContract at 0x104467da0>"
      ]
     },
     "execution_count": 58,
     "metadata": {},
     "output_type": "execute_result"
    }
   ],
   "source": [
    "# Build ConciseContract artifact\n",
    "whitelist_contract = w3.eth.contract(\n",
    "    address=WhiteListAddress,\n",
    "    abi=WhiteListAbi,\n",
    ")\n",
    "whitelist_CContract = ConciseContract(whitelist_contract)\n",
    "whitelist_CContract"
   ]
  },
  {
   "cell_type": "code",
   "execution_count": null,
   "metadata": {
    "collapsed": true
   },
   "outputs": [],
   "source": []
  },
  {
   "cell_type": "code",
   "execution_count": null,
   "metadata": {
    "collapsed": true
   },
   "outputs": [],
   "source": []
  },
  {
   "cell_type": "markdown",
   "metadata": {},
   "source": [
    "## Step 4 - Interacting with Smart Contract "
   ]
  },
  {
   "cell_type": "code",
   "execution_count": 59,
   "metadata": {},
   "outputs": [
    {
     "name": "stdout",
     "output_type": "stream",
     "text": [
      "WhiteListAddress:             0x5fe7CD00aA1aA3cCf94F459E3fB5C633C640aBB4    Deployed:True\n"
     ]
    }
   ],
   "source": [
    "print(\"WhiteListAddress:             \" + WhiteListAddress + \"    Deployed:\" + str(whitelist_CContract.isOwner()) )"
   ]
  },
  {
   "cell_type": "markdown",
   "metadata": {},
   "source": [
    "#### 4a - Add accounts to whitelist"
   ]
  },
  {
   "cell_type": "code",
   "execution_count": 60,
   "metadata": {},
   "outputs": [
    {
     "data": {
      "text/plain": [
       "1"
      ]
     },
     "execution_count": 60,
     "metadata": {},
     "output_type": "execute_result"
    }
   ],
   "source": [
    "# Whitelist \n",
    "insert_list = [w3.eth.accounts[2], w3.eth.accounts[3]]\n",
    "\n",
    "# Submit txn\n",
    "txn = whitelist_contract.functions.add(insert_list).buildTransaction({'gas': 320000})\n",
    "receipt = sign_transaction(txn)\n",
    "receipt.status"
   ]
  },
  {
   "cell_type": "code",
   "execution_count": 61,
   "metadata": {},
   "outputs": [
    {
     "data": {
      "text/plain": [
       "True"
      ]
     },
     "execution_count": 61,
     "metadata": {},
     "output_type": "execute_result"
    }
   ],
   "source": [
    "# Using the standard web3 contract call \n",
    "dst_name = whitelist_contract.functions.isInWhiteList(w3.eth.accounts[3]).call()\n",
    "dst_name"
   ]
  },
  {
   "cell_type": "code",
   "execution_count": 62,
   "metadata": {},
   "outputs": [
    {
     "data": {
      "text/plain": [
       "True"
      ]
     },
     "execution_count": 62,
     "metadata": {},
     "output_type": "execute_result"
    }
   ],
   "source": [
    "# Using the ConciseContract call \n",
    "whitelist_CContract.isInWhiteList(w3.eth.accounts[3])"
   ]
  },
  {
   "cell_type": "markdown",
   "metadata": {},
   "source": [
    "#### 4b - Checking Controller"
   ]
  },
  {
   "cell_type": "code",
   "execution_count": 63,
   "metadata": {},
   "outputs": [
    {
     "data": {
      "text/plain": [
       "True"
      ]
     },
     "execution_count": 63,
     "metadata": {},
     "output_type": "execute_result"
    }
   ],
   "source": [
    "whitelist_CContract.isControllable()"
   ]
  },
  {
   "cell_type": "code",
   "execution_count": 64,
   "metadata": {},
   "outputs": [
    {
     "data": {
      "text/plain": [
       "1"
      ]
     },
     "execution_count": 64,
     "metadata": {},
     "output_type": "execute_result"
    }
   ],
   "source": [
    "# Submit txn to add new controller \"accounts[5]\"\n",
    "txn = whitelist_contract.functions.addController(w3.eth.accounts[3]).buildTransaction({'gas': 320000})\n",
    "receipt = sign_transaction(txn)\n",
    "receipt.status"
   ]
  },
  {
   "cell_type": "code",
   "execution_count": null,
   "metadata": {
    "collapsed": true
   },
   "outputs": [],
   "source": []
  },
  {
   "cell_type": "code",
   "execution_count": null,
   "metadata": {
    "collapsed": true
   },
   "outputs": [],
   "source": []
  },
  {
   "cell_type": "code",
   "execution_count": null,
   "metadata": {
    "collapsed": true
   },
   "outputs": [],
   "source": []
  },
  {
   "cell_type": "markdown",
   "metadata": {
    "collapsed": true
   },
   "source": [
    "## Misc Code Blocks"
   ]
  },
  {
   "cell_type": "code",
   "execution_count": 65,
   "metadata": {},
   "outputs": [
    {
     "data": {
      "text/plain": [
       "AttributeDict({'blockHash': HexBytes('0x806f4997c19c3ebdee69ff5908dd788b20132771e8aec71f73e7e6080d4b38e3'),\n",
       " 'blockNumber': 1226,\n",
       " 'from': '0xa00Af22D07c87d96EeeB0Ed583f8F6AC7812827E',\n",
       " 'gas': 320000,\n",
       " 'gasPrice': 4000000000,\n",
       " 'hash': HexBytes('0x03cd8cbf6855adda91f72bc1c6d67cf17d2e4f957128300c990148474ee43b7b'),\n",
       " 'input': '0xa7fc7a07000000000000000000000000a33a6c312d9ad0e0f2e95541beed0cc081621fd0',\n",
       " 'nonce': 21,\n",
       " 'r': HexBytes('0x181af65fb8ea46e86c768570e10756bdf8f15486888cc5981f979da80925fc4b'),\n",
       " 's': HexBytes('0x42967e091c4fa45843592275d14197278a5efd32a0b76402b3b2db5261b3861b'),\n",
       " 'to': '0x5fe7CD00aA1aA3cCf94F459E3fB5C633C640aBB4',\n",
       " 'transactionIndex': 0,\n",
       " 'v': 28,\n",
       " 'value': 0})"
      ]
     },
     "execution_count": 65,
     "metadata": {},
     "output_type": "execute_result"
    }
   ],
   "source": [
    "## Get more information from a transaction hash\n",
    "w3.eth.getTransaction(receipt.transactionHash)"
   ]
  },
  {
   "cell_type": "code",
   "execution_count": 66,
   "metadata": {},
   "outputs": [
    {
     "data": {
      "text/plain": [
       "['000000000000000000000000a33a6c312d9ad0e0f2e95541beed0cc081621fd0',\n",
       " '0000000000000000000000000000000000000000000000000000000000000001',\n",
       " '0000000000000000000000000000000000000000000000000000000000000080',\n",
       " '0000000000000000000000000000000000000000000000000000000000000000',\n",
       " '000000000000000000000000a33a6c312d9ad0e0f2e95541beed0cc081621fd0']"
      ]
     },
     "execution_count": 66,
     "metadata": {},
     "output_type": "execute_result"
    }
   ],
   "source": [
    "## Get the contracts final memory from a transaction receipt\n",
    "w3.providers[0].make_request(\"debug_traceTransaction\", [str(ascii(receipt.transactionHash))[10:-2], {}])['result']['structLogs'][-1]['memory']"
   ]
  },
  {
   "cell_type": "code",
   "execution_count": null,
   "metadata": {
    "collapsed": true
   },
   "outputs": [],
   "source": []
  },
  {
   "cell_type": "code",
   "execution_count": null,
   "metadata": {
    "collapsed": true
   },
   "outputs": [],
   "source": []
  }
 ],
 "metadata": {
  "kernelspec": {
   "display_name": "Python 3",
   "language": "python",
   "name": "python3"
  },
  "language_info": {
   "codemirror_mode": {
    "name": "ipython",
    "version": 3
   },
   "file_extension": ".py",
   "mimetype": "text/x-python",
   "name": "python",
   "nbconvert_exporter": "python",
   "pygments_lexer": "ipython3",
   "version": "3.6.3"
  }
 },
 "nbformat": 4,
 "nbformat_minor": 2
}
